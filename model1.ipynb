{
 "cells": [
  {
   "cell_type": "code",
   "execution_count": null,
   "id": "52092046",
   "metadata": {},
   "outputs": [],
   "source": [
    "import numpy as np\n",
    "import pandas as pd\n",
    "import matplotlib.pyplot as plt\n",
    "from sklearn.linear_model import LogisticRegression\n",
    "from sklearn.datasets import load_iris\n",
    "from sklearn.model_selection import train_test_split\n"
   ]
  },
  {
   "cell_type": "code",
   "execution_count": null,
   "id": "2e3a27e6",
   "metadata": {},
   "outputs": [],
   "source": [
    "# Load the iris dataset from sklearn datasets\n",
    "\n",
    "dataset=load_iris()\n",
    "\n",
    "# Getting Feature Names\n",
    "\n",
    "names=dataset.feature_names\n",
    "\n",
    "# Loading features and labels from the dataset\n",
    "\n",
    "features=dataset.data\n",
    "labels=dataset.target\n"
   ]
  },
  {
   "cell_type": "code",
   "execution_count": null,
   "id": "ddb56ac5",
   "metadata": {},
   "outputs": [],
   "source": [
    "# Splitting labels and features to training and testing sets\n",
    "\n",
    "feature_train,feature_test,label_train,label_test=train_test_split(features,labels,test_size=0.2,random_state=42)\n",
    "\n",
    "# Initialising Logistic Regression Model with maximum iterations as 500\n",
    "\n",
    "model=LogisticRegression(max_iter=500)\n"
   ]
  },
  {
   "cell_type": "code",
   "execution_count": null,
   "id": "a8e5a004",
   "metadata": {},
   "outputs": [],
   "source": [
    "# Fitting Model or Training Model with training features and labels\n",
    "\n",
    "model.fit(feature_train,label_train)\n",
    "\n",
    "\n"
   ]
  },
  {
   "cell_type": "code",
   "execution_count": null,
   "id": "5df92db2",
   "metadata": {},
   "outputs": [],
   "source": [
    "# Predicting the labels for the testing features\n",
    "\n",
    "label_pred=model.predict(feature_test)\n"
   ]
  },
  {
   "cell_type": "code",
   "execution_count": null,
   "id": "a5f475a5",
   "metadata": {},
   "outputs": [],
   "source": [
    "# Finding the accuracy score for predicted ones vs testing ones\n",
    "\n",
    "from sklearn.metrics import accuracy_score\n",
    "accuracy_score(label_pred,label_test)"
   ]
  }
 ],
 "metadata": {
  "kernelspec": {
   "display_name": "Python 3 (ipykernel)",
   "language": "python",
   "name": "python3"
  }
 },
 "nbformat": 4,
 "nbformat_minor": 5
}
